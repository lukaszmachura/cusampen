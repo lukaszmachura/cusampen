{
 "cells": [
  {
   "cell_type": "code",
   "execution_count": 21,
   "metadata": {},
   "outputs": [],
   "source": [
    "import matplotlib.pyplot as plt\n",
    "import numpy as np\n",
    "import glob\n",
    "import pickle\n",
    "import sampen\n",
    "import time\n",
    "\n",
    "def diffs(a, b):\n",
    "    l = min(len(a), len(b))\n",
    "    return [abs(a[i] - b[i]) for i in range(l)]\n",
    "\n",
    "\n",
    "def sample_entropy(U, m=2, r=0.2):\n",
    "    \"sample entropy from wikipedia\"\n",
    "    \n",
    "    def _maxdist(x_i, x_j):\n",
    "        result = max([abs(ua - va) for ua, va in zip(x_i, x_j)])\n",
    "        return result\n",
    "\n",
    "    def _phi(m):\n",
    "        x = [[U[j] for j in range(i, i + m - 1 + 1)] for i in range(N - m + 1)]\n",
    "        C = [len([1 for j in range(len(x)) if i != j and _maxdist(x[i], x[j]) <= r]) for i in range(len(x))]\n",
    "        return sum(C)\n",
    "\n",
    "    N = len(U)\n",
    "    \n",
    "    return -np.log(_phi(m + 1) / _phi(m))\n",
    "\n",
    "\n",
    "def SampEn(L, m=2, r=0.2):\n",
    "    N = len(L)\n",
    "    B = 0.0\n",
    "    A = 0.0\n",
    "    \n",
    "    \n",
    "    # Split time series and save all templates of length m\n",
    "    xmi = np.array([L[i : i + m] for i in range(N - m)])\n",
    "    xmj = np.array([L[i : i + m] for i in range(N - m + 1)])\n",
    "\n",
    "    # Save all matches minus the self-match, compute B\n",
    "    B = np.sum([np.sum(np.abs(xmii - xmj).max(axis=1) <= r) - 1 for xmii in xmi])\n",
    "\n",
    "    # Similar for computing A\n",
    "    m += 1\n",
    "    xm = np.array([L[i : i + m] for i in range(N - m + 1)])\n",
    "\n",
    "    A = np.sum([np.sum(np.abs(xmi - xm).max(axis=1) <= r) - 1 for xmi in xm])\n",
    "\n",
    "    # Return SampEn\n",
    "    return -np.log(A / B)"
   ]
  },
  {
   "cell_type": "code",
   "execution_count": 2,
   "metadata": {},
   "outputs": [
    {
     "name": "stdout",
     "output_type": "stream",
     "text": [
      "['o1k.dat', 'o10k.dat', 'o2k.dat', 'o5k.dat', 'o20k.dat', 'o50k.dat', 'o100k.dat', 'o200k.dat', 'o500k.dat', 'out2k.dat', 'o1000k.dat', 'out1000k.dat', 'out500k.dat']\n"
     ]
    }
   ],
   "source": [
    "data_files = glob.glob('o*.dat')\n",
    "print(data_files)"
   ]
  },
  {
   "cell_type": "code",
   "execution_count": 6,
   "metadata": {},
   "outputs": [],
   "source": [
    "lengths = [1, 2, 5, 10, 20, 50, 100, 200, 500, 1000]\n",
    "\n",
    "#CUDA\n",
    "sampen_cuda = []\n",
    "times_cuda = []\n",
    "for length in lengths:\n",
    "#     print(length)\n",
    "    with open(f'o{length}k.dat', 'rt') as f:\n",
    "        content = f.readlines()\n",
    "#         print(content[8])\n",
    "        sampen_cuda.append(float(content[8].split(': ')[1]))\n",
    "        times_cuda.append(float(content[9].split('user')[0]))"
   ]
  },
  {
   "cell_type": "code",
   "execution_count": 7,
   "metadata": {},
   "outputs": [
    {
     "data": {
      "text/plain": [
       "([0.06, 0.16, 0.39, 0.98, 2.75, 11.8, 39.53, 146.12, 853.79, 3686.22],\n",
       " [1, 2, 5, 10, 20, 50, 100, 200, 500, 1000],\n",
       " [2.70805,\n",
       "  2.120264,\n",
       "  2.75684,\n",
       "  2.147392,\n",
       "  2.211613,\n",
       "  2.10554,\n",
       "  2.107155,\n",
       "  2.18673,\n",
       "  2.109178,\n",
       "  2.181629])"
      ]
     },
     "execution_count": 7,
     "metadata": {},
     "output_type": "execute_result"
    }
   ],
   "source": [
    "times_cuda, lengths, sampen_cuda"
   ]
  },
  {
   "cell_type": "code",
   "execution_count": 10,
   "metadata": {},
   "outputs": [
    {
     "data": {
      "text/plain": [
       "Text(0, 0.5, 'SampEn')"
      ]
     },
     "execution_count": 10,
     "metadata": {},
     "output_type": "execute_result"
    },
    {
     "data": {
      "image/png": "[encoded data removed]",
      "text/plain": [
       "<Figure size 432x288 with 1 Axes>"
      ]
     },
     "metadata": {
      "needs_background": "light"
     },
     "output_type": "display_data"
    }
   ],
   "source": [
    "plt.semilogx(lengths, sampen_cuda, '-or')\n",
    "plt.xticks(lengths, lengths) #[1, 10, 100, 500, 1000], [1, 10, 100, 500, 1000])\n",
    "# plt.ylim([0, 3])\n",
    "plt.xlabel(r'number of points $\\times 1000$')\n",
    "plt.ylabel('SampEn')"
   ]
  },
  {
   "cell_type": "code",
   "execution_count": 13,
   "metadata": {},
   "outputs": [
    {
     "data": {
      "text/plain": [
       "Text(0, 0.5, 'time [sec]')"
      ]
     },
     "execution_count": 13,
     "metadata": {},
     "output_type": "execute_result"
    },
    {
     "data": {
      "image/png": "[encoded data removed]",
      "text/plain": [
       "<Figure size 432x288 with 1 Axes>"
      ]
     },
     "metadata": {
      "needs_background": "light"
     },
     "output_type": "display_data"
    }
   ],
   "source": [
    "plt.loglog(lengths, times_cuda, '-or')\n",
    "plt.xticks(lengths, lengths)\n",
    "plt.xlabel(r'number of points $\\times 1000$')\n",
    "plt.ylabel('time [sec]')"
   ]
  },
  {
   "cell_type": "markdown",
   "metadata": {},
   "source": [
    "# Python"
   ]
  },
  {
   "cell_type": "code",
   "execution_count": 72,
   "metadata": {},
   "outputs": [
    {
     "data": {
      "text/plain": [
       "['data10k.dat',\n",
       " 'data100k.dat',\n",
       " 'data1000k.dat',\n",
       " 'data1k.dat',\n",
       " 'data2k.dat',\n",
       " 'data5k.dat',\n",
       " 'data50k.dat',\n",
       " 'data20k.dat',\n",
       " 'data200k.dat',\n",
       " 'data500k.dat']"
      ]
     },
     "execution_count": 72,
     "metadata": {},
     "output_type": "execute_result"
    }
   ],
   "source": [
    "gauss_data = glob.glob('data*k.dat')\n",
    "gauss_data"
   ]
  },
  {
   "cell_type": "code",
   "execution_count": 44,
   "metadata": {},
   "outputs": [
    {
     "ename": "KeyboardInterrupt",
     "evalue": "",
     "output_type": "error",
     "traceback": [
      "\u001b[0;31m---------------------------------------------------------------------------\u001b[0m",
      "\u001b[0;31mKeyboardInterrupt\u001b[0m                         Traceback (most recent call last)",
      "\u001b[0;32m<ipython-input-44-4ba52b402f04>\u001b[0m in \u001b[0;36m<module>\u001b[0;34m\u001b[0m\n\u001b[1;32m      5\u001b[0m     \u001b[0md\u001b[0m \u001b[0;34m=\u001b[0m \u001b[0mnp\u001b[0m\u001b[0;34m.\u001b[0m\u001b[0mgenfromtxt\u001b[0m\u001b[0;34m(\u001b[0m\u001b[0;34mf'data{length}k.dat'\u001b[0m\u001b[0;34m)\u001b[0m\u001b[0;34m\u001b[0m\u001b[0;34m\u001b[0m\u001b[0m\n\u001b[1;32m      6\u001b[0m     \u001b[0mt\u001b[0m \u001b[0;34m=\u001b[0m \u001b[0mtime\u001b[0m\u001b[0;34m.\u001b[0m\u001b[0mtime\u001b[0m\u001b[0;34m(\u001b[0m\u001b[0;34m)\u001b[0m\u001b[0;34m\u001b[0m\u001b[0;34m\u001b[0m\u001b[0m\n\u001b[0;32m----> 7\u001b[0;31m     \u001b[0msampen_python\u001b[0m\u001b[0;34m.\u001b[0m\u001b[0mappend\u001b[0m\u001b[0;34m(\u001b[0m\u001b[0msampen\u001b[0m\u001b[0;34m.\u001b[0m\u001b[0msampen2\u001b[0m\u001b[0;34m(\u001b[0m\u001b[0md\u001b[0m\u001b[0;34m)\u001b[0m\u001b[0;34m[\u001b[0m\u001b[0;36m2\u001b[0m\u001b[0;34m]\u001b[0m\u001b[0;34m[\u001b[0m\u001b[0;36m1\u001b[0m\u001b[0;34m]\u001b[0m\u001b[0;34m)\u001b[0m\u001b[0;34m\u001b[0m\u001b[0;34m\u001b[0m\u001b[0m\n\u001b[0m\u001b[1;32m      8\u001b[0m     \u001b[0mtimes_python\u001b[0m\u001b[0;34m.\u001b[0m\u001b[0mappend\u001b[0m\u001b[0;34m(\u001b[0m\u001b[0mtime\u001b[0m\u001b[0;34m.\u001b[0m\u001b[0mtime\u001b[0m\u001b[0;34m(\u001b[0m\u001b[0;34m)\u001b[0m \u001b[0;34m-\u001b[0m \u001b[0mt\u001b[0m\u001b[0;34m)\u001b[0m\u001b[0;34m\u001b[0m\u001b[0;34m\u001b[0m\u001b[0m\n",
      "\u001b[0;32m~/.local/lib/python3.7/site-packages/sampen/sampen2.py\u001b[0m in \u001b[0;36msampen2\u001b[0;34m(data, mm, r, normalize)\u001b[0m\n\u001b[1;32m    108\u001b[0m \u001b[0;34m\u001b[0m\u001b[0m\n\u001b[1;32m    109\u001b[0m             \u001b[0;32melse\u001b[0m\u001b[0;34m:\u001b[0m\u001b[0;34m\u001b[0m\u001b[0;34m\u001b[0m\u001b[0m\n\u001b[0;32m--> 110\u001b[0;31m                 \u001b[0mrun\u001b[0m\u001b[0;34m[\u001b[0m\u001b[0mjj\u001b[0m\u001b[0;34m]\u001b[0m \u001b[0;34m=\u001b[0m \u001b[0;36m0\u001b[0m\u001b[0;34m\u001b[0m\u001b[0;34m\u001b[0m\u001b[0m\n\u001b[0m\u001b[1;32m    111\u001b[0m \u001b[0;34m\u001b[0m\u001b[0m\n\u001b[1;32m    112\u001b[0m         \u001b[0;32mfor\u001b[0m \u001b[0mj\u001b[0m \u001b[0;32min\u001b[0m \u001b[0mrange\u001b[0m\u001b[0;34m(\u001b[0m\u001b[0mmm_dbld\u001b[0m\u001b[0;34m)\u001b[0m\u001b[0;34m:\u001b[0m\u001b[0;34m\u001b[0m\u001b[0;34m\u001b[0m\u001b[0m\n",
      "\u001b[0;31mKeyboardInterrupt\u001b[0m: "
     ]
    }
   ],
   "source": [
    "lengths_python = [1, 2, 5, 10, 20, 50] #, 100, 200]\n",
    "sampen_python = []\n",
    "times_python = []\n",
    "for length in lengths:\n",
    "    d = np.genfromtxt(f'data{length}k.dat')\n",
    "    t = time.time()\n",
    "    sampen_python.append(sampen.sampen2(d)[2][1])\n",
    "    times_python.append(time.time() - t)"
   ]
  },
  {
   "cell_type": "code",
   "execution_count": 46,
   "metadata": {},
   "outputs": [
    {
     "data": {
      "text/plain": [
       "([1.02632519520008,\n",
       "  1.0269842542936303,\n",
       "  1.0213774246398317,\n",
       "  1.0251616798323206,\n",
       "  1.024911958972479,\n",
       "  1.0216780065278852],\n",
       " [0.4636199474334717,\n",
       "  1.8339133262634277,\n",
       "  11.655877828598022,\n",
       "  46.55596303939819,\n",
       "  187.60889053344727,\n",
       "  1196.5066592693329])"
      ]
     },
     "execution_count": 46,
     "metadata": {},
     "output_type": "execute_result"
    }
   ],
   "source": [
    "sampen_python, times_python"
   ]
  },
  {
   "cell_type": "code",
   "execution_count": 47,
   "metadata": {},
   "outputs": [
    {
     "data": {
      "text/plain": [
       "Text(0, 0.5, 'SampEn')"
      ]
     },
     "execution_count": 47,
     "metadata": {},
     "output_type": "execute_result"
    },
    {
     "data": {
      "image/png": "[encoded data removed]",
      "text/plain": [
       "<Figure size 432x288 with 1 Axes>"
      ]
     },
     "metadata": {
      "needs_background": "light"
     },
     "output_type": "display_data"
    }
   ],
   "source": [
    "plt.semilogx(lengths, sampen_cuda, '-or')\n",
    "plt.semilogx(lengths_python, sampen_python, '-or')\n",
    "plt.xticks([1, 10, 100, 1000], [1, 10, 100, 1000])\n",
    "plt.ylim([0, 3])\n",
    "plt.xlabel(r'number of points $\\times 1000$')\n",
    "plt.ylabel('SampEn')"
   ]
  },
  {
   "cell_type": "code",
   "execution_count": 71,
   "metadata": {},
   "outputs": [
    {
     "data": {
      "text/plain": [
       "([<matplotlib.axis.XTick at 0x7f50c0e4d518>,\n",
       "  <matplotlib.axis.XTick at 0x7f50c0edf828>,\n",
       "  <matplotlib.axis.XTick at 0x7f50c0de45c0>,\n",
       "  <matplotlib.axis.XTick at 0x7f50c0deb3c8>,\n",
       "  <matplotlib.axis.XTick at 0x7f50c0deb8d0>,\n",
       "  <matplotlib.axis.XTick at 0x7f50c0debe48>,\n",
       "  <matplotlib.axis.XTick at 0x7f50c0e09400>,\n",
       "  <matplotlib.axis.XTick at 0x7f50c0deb748>,\n",
       "  <matplotlib.axis.XTick at 0x7f50c0e095c0>],\n",
       " <a list of 9 Text xticklabel objects>)"
      ]
     },
     "execution_count": 71,
     "metadata": {},
     "output_type": "execute_result"
    },
    {
     "data": {
      "image/png": "[encoded data removed]",
      "text/plain": [
       "<Figure size 432x288 with 1 Axes>"
      ]
     },
     "metadata": {
      "needs_background": "light"
     },
     "output_type": "display_data"
    }
   ],
   "source": [
    "plt.loglog(lengths, times_cuda, '-or')\n",
    "plt.loglog(lengths_python, times_python, '-ob')\n",
    "plt.semilogx(lengths_python, diffs(times_cuda, times_python), 'k')\n",
    "# plt.xticks(lengths_python, lengths_python)\n",
    "plt.xticks(lengths, lengths)"
   ]
  },
  {
   "cell_type": "code",
   "execution_count": 63,
   "metadata": {},
   "outputs": [
    {
     "data": {
      "text/plain": [
       "([<matplotlib.axis.XTick at 0x7f50bf6254a8>,\n",
       "  <matplotlib.axis.XTick at 0x7f50bf6255f8>,\n",
       "  <matplotlib.axis.XTick at 0x7f50bf625b00>,\n",
       "  <matplotlib.axis.XTick at 0x7f50bf5d2ac8>,\n",
       "  <matplotlib.axis.XTick at 0x7f50bf5d2f60>,\n",
       "  <matplotlib.axis.XTick at 0x7f50bf5cb470>],\n",
       " <a list of 6 Text xticklabel objects>)"
      ]
     },
     "execution_count": 63,
     "metadata": {},
     "output_type": "execute_result"
    },
    {
     "data": {
      "image/png": "[encoded data removed]",
      "text/plain": [
       "<Figure size 432x288 with 1 Axes>"
      ]
     },
     "metadata": {
      "needs_background": "light"
     },
     "output_type": "display_data"
    }
   ],
   "source": [
    "\n",
    "\n"
   ]
  },
  {
   "cell_type": "code",
   "execution_count": 53,
   "metadata": {},
   "outputs": [
    {
     "name": "stdout",
     "output_type": "stream",
     "text": [
      "CPU times: user 11.7 s, sys: 1e+03 ns, total: 11.7 s\n",
      "Wall time: 11.7 s\n"
     ]
    },
    {
     "data": {
      "text/plain": [
       "[(0, 1.0184723355037948, 0.0017233735890098106),\n",
       " (1, 1.020183880995742, 0.002933016450899701),\n",
       " (2, 1.0213774246398317, 0.00380987066593324)]"
      ]
     },
     "execution_count": 53,
     "metadata": {},
     "output_type": "execute_result"
    }
   ],
   "source": [
    "%%time\n",
    "sampen.sampen2(np.genfromtxt(f'data5k.dat'))"
   ]
  },
  {
   "cell_type": "code",
   "execution_count": 18,
   "metadata": {},
   "outputs": [],
   "source": [
    "# sampen.sampen2??"
   ]
  },
  {
   "cell_type": "code",
   "execution_count": 23,
   "metadata": {},
   "outputs": [
    {
     "name": "stdout",
     "output_type": "stream",
     "text": [
      "CPU times: user 1min 8s, sys: 0 ns, total: 1min 8s\n",
      "Wall time: 1min 8s\n"
     ]
    },
    {
     "data": {
      "text/plain": [
       "1.0218529275022163"
      ]
     },
     "execution_count": 23,
     "metadata": {},
     "output_type": "execute_result"
    }
   ],
   "source": [
    "%%time\n",
    "sample_entropy(np.genfromtxt(f'data5k.dat'))"
   ]
  },
  {
   "cell_type": "code",
   "execution_count": 25,
   "metadata": {},
   "outputs": [
    {
     "name": "stdout",
     "output_type": "stream",
     "text": [
      "2.713118076324463\n",
      "CPU times: user 2.7 s, sys: 12 ms, total: 2.72 s\n",
      "Wall time: 2.71 s\n"
     ]
    }
   ],
   "source": [
    "%%time\n",
    "t = time.time()\n",
    "SampEn(np.genfromtxt(f'data5k.dat'))\n",
    "print(time.time() - t)"
   ]
  },
  {
   "cell_type": "code",
   "execution_count": 24,
   "metadata": {},
   "outputs": [
    {
     "data": {
      "text/plain": [
       "[0.06, 0.16, 0.39, 0.98, 2.75, 11.8, 39.53, 146.12, 853.79, 3686.22]"
      ]
     },
     "execution_count": 24,
     "metadata": {},
     "output_type": "execute_result"
    }
   ],
   "source": [
    "times_cuda"
   ]
  },
  {
   "cell_type": "code",
   "execution_count": null,
   "metadata": {},
   "outputs": [],
   "source": []
  }
 ],
 "metadata": {
  "kernelspec": {
   "display_name": "Python 3",
   "language": "python",
   "name": "python3"
  },
  "language_info": {
   "codemirror_mode": {
    "name": "ipython",
    "version": 3
   },
   "file_extension": ".py",
   "mimetype": "text/x-python",
   "name": "python",
   "nbconvert_exporter": "python",
   "pygments_lexer": "ipython3",
   "version": "3.7.3"
  }
 },
 "nbformat": 4,
 "nbformat_minor": 4
}
